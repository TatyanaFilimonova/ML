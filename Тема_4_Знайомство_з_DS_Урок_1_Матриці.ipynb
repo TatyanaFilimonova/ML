{
  "nbformat": 4,
  "nbformat_minor": 0,
  "metadata": {
    "colab": {
      "provenance": [],
      "authorship_tag": "ABX9TyNeRu9ExOrOqW+qM8V752PG",
      "include_colab_link": true
    },
    "kernelspec": {
      "name": "python3",
      "display_name": "Python 3"
    },
    "language_info": {
      "name": "python"
    }
  },
  "cells": [
    {
      "cell_type": "markdown",
      "metadata": {
        "id": "view-in-github",
        "colab_type": "text"
      },
      "source": [
        "<a href=\"https://colab.research.google.com/github/TatyanaFilimonova/ML/blob/main/%D0%A2%D0%B5%D0%BC%D0%B0_4_%D0%97%D0%BD%D0%B0%D0%B9%D0%BE%D0%BC%D1%81%D1%82%D0%B2%D0%BE_%D0%B7_DS_%D0%A3%D1%80%D0%BE%D0%BA_1_%D0%9C%D0%B0%D1%82%D1%80%D0%B8%D1%86%D1%96.ipynb\" target=\"_parent\"><img src=\"https://colab.research.google.com/assets/colab-badge.svg\" alt=\"Open In Colab\"/></a>"
      ]
    },
    {
      "cell_type": "code",
      "source": [
        "import numpy as np\n",
        "np.__version__"
      ],
      "metadata": {
        "colab": {
          "base_uri": "https://localhost:8080/",
          "height": 36
        },
        "id": "iktULKjzMWE6",
        "outputId": "ee135a14-b741-4f56-e1fb-85d836641ad1"
      },
      "execution_count": null,
      "outputs": [
        {
          "output_type": "execute_result",
          "data": {
            "text/plain": [
              "'2.0.2'"
            ],
            "application/vnd.google.colaboratory.intrinsic+json": {
              "type": "string"
            }
          },
          "metadata": {},
          "execution_count": 1
        }
      ]
    },
    {
      "cell_type": "markdown",
      "source": [
        "1. Створи матрицю 3*3, заповни її цілими випадковими числами від 1 до 5"
      ],
      "metadata": {
        "id": "bzgZsRa4rFAA"
      }
    },
    {
      "cell_type": "code",
      "execution_count": null,
      "metadata": {
        "colab": {
          "base_uri": "https://localhost:8080/"
        },
        "id": "IuGME1hqq_H5",
        "outputId": "47707fe8-e35b-4a15-c632-93512bfd8508"
      },
      "outputs": [
        {
          "output_type": "execute_result",
          "data": {
            "text/plain": [
              "array([[3, 2, 3],\n",
              "       [5, 3, 3],\n",
              "       [2, 1, 2]])"
            ]
          },
          "metadata": {},
          "execution_count": 2
        }
      ],
      "source": [
        "matrix = np.random.randint(1, 6, size=(3, 3))\n",
        "\n",
        "matrix"
      ]
    },
    {
      "cell_type": "markdown",
      "source": [
        "2. Обчислити визначник матриці"
      ],
      "metadata": {
        "id": "s-vUzUUMrQTy"
      }
    },
    {
      "cell_type": "code",
      "source": [
        "det = np.linalg.det(matrix)\n",
        "det"
      ],
      "metadata": {
        "colab": {
          "base_uri": "https://localhost:8080/"
        },
        "id": "nUHBryA5rU61",
        "outputId": "4cbe8901-a246-4ebf-bfd8-674f942a1ae4"
      },
      "execution_count": null,
      "outputs": [
        {
          "output_type": "execute_result",
          "data": {
            "text/plain": [
              "np.float64(-1.9999999999999996)"
            ]
          },
          "metadata": {},
          "execution_count": 3
        }
      ]
    },
    {
      "cell_type": "markdown",
      "source": [
        "3. Знайти добуток всіх елементів матриці"
      ],
      "metadata": {
        "id": "nJlBtfW6lYKU"
      }
    },
    {
      "cell_type": "code",
      "source": [
        "product = np.prod(matrix)\n",
        "product"
      ],
      "metadata": {
        "colab": {
          "base_uri": "https://localhost:8080/"
        },
        "id": "id6Bm07urcEw",
        "outputId": "609a8025-5eeb-46ef-99d5-f8bcc112e190"
      },
      "execution_count": null,
      "outputs": [
        {
          "output_type": "execute_result",
          "data": {
            "text/plain": [
              "np.int64(76800)"
            ]
          },
          "metadata": {},
          "execution_count": 5
        }
      ]
    },
    {
      "cell_type": "code",
      "source": [
        "prod_1 = np.prod(matrix[0])\n",
        "prod_2 = np.prod(matrix[1])\n",
        "prod_3 = np.prod(matrix[2])\n",
        "prod_1*prod_2*prod_3"
      ],
      "metadata": {
        "colab": {
          "base_uri": "https://localhost:8080/"
        },
        "id": "oz6DoMyc0myI",
        "outputId": "f3b8426f-ba8a-49ee-cc34-875052e84e28"
      },
      "execution_count": null,
      "outputs": [
        {
          "output_type": "execute_result",
          "data": {
            "text/plain": [
              "np.int64(76800)"
            ]
          },
          "metadata": {},
          "execution_count": 6
        }
      ]
    },
    {
      "cell_type": "markdown",
      "source": [
        "4. Знайти суму всіх елементів матриці"
      ],
      "metadata": {
        "id": "gBRoRxSnrlws"
      }
    },
    {
      "cell_type": "code",
      "source": [
        "sum = np.sum(matrix)\n",
        "\n",
        "sum"
      ],
      "metadata": {
        "id": "iQ6a47B4rsj9",
        "colab": {
          "base_uri": "https://localhost:8080/"
        },
        "outputId": "c97569b2-116c-4613-c697-974f21b598b7"
      },
      "execution_count": null,
      "outputs": [
        {
          "output_type": "execute_result",
          "data": {
            "text/plain": [
              "np.int64(33)"
            ]
          },
          "metadata": {},
          "execution_count": 7
        }
      ]
    },
    {
      "cell_type": "markdown",
      "source": [
        "5. Обчислити найбільший, найменший елементи"
      ],
      "metadata": {
        "id": "YUOPusccr4CA"
      }
    },
    {
      "cell_type": "code",
      "source": [
        "max_element = np.max(matrix)\n",
        "\n",
        "print(\"Найбільший елемент матриці:\", max_element)\n",
        "\n",
        "min_element = np.min(matrix)\n",
        "\n",
        "print(\"Найменший елемент матриці:\", min_element)"
      ],
      "metadata": {
        "colab": {
          "base_uri": "https://localhost:8080/"
        },
        "id": "xy7eVPvMr-td",
        "outputId": "47360ea8-51c2-4ed4-84b6-92bb5361c22c"
      },
      "execution_count": null,
      "outputs": [
        {
          "output_type": "stream",
          "name": "stdout",
          "text": [
            "Найбільший елемент матриці: 5\n",
            "Найменший елемент матриці: 2\n"
          ]
        }
      ]
    },
    {
      "cell_type": "markdown",
      "source": [
        "6. Знайти середнє значення елементів матриці"
      ],
      "metadata": {
        "id": "KdvHubDVljmd"
      }
    },
    {
      "cell_type": "code",
      "source": [
        "mean = np.mean(matrix)\n",
        "\n",
        "print(\"Середнє значення елементів матриці:\", mean)"
      ],
      "metadata": {
        "colab": {
          "base_uri": "https://localhost:8080/"
        },
        "id": "nsGFkAkqsH7X",
        "outputId": "52ff5b33-0e96-4320-9c85-d893fa004b5d"
      },
      "execution_count": null,
      "outputs": [
        {
          "output_type": "stream",
          "name": "stdout",
          "text": [
            "Середнє значення елементів матриці: 3.6666666666666665\n"
          ]
        }
      ]
    },
    {
      "cell_type": "markdown",
      "source": [
        "7. Знайти матрицю, що складена з квадратних коренів."
      ],
      "metadata": {
        "id": "hHqrmvPMsfeJ"
      }
    },
    {
      "cell_type": "code",
      "source": [
        "sqrt_matrix = np.sqrt(matrix)\n",
        "\n",
        "print(\"Матриця квадратних коренів:\")\n",
        "print(sqrt_matrix)"
      ],
      "metadata": {
        "colab": {
          "base_uri": "https://localhost:8080/"
        },
        "id": "cLE7MFbqsUEa",
        "outputId": "6811872d-2022-4fd0-f54f-8685a4ec0284"
      },
      "execution_count": null,
      "outputs": [
        {
          "output_type": "stream",
          "name": "stdout",
          "text": [
            "Матриця квадратних коренів:\n",
            "[[2.         1.73205081 2.        ]\n",
            " [2.         1.41421356 2.        ]\n",
            " [1.41421356 2.23606798 2.23606798]]\n"
          ]
        }
      ]
    },
    {
      "cell_type": "markdown",
      "source": [
        "8. Обчислити суму елементів кожного рядка. Відповідь записати  як вектор-стовпчик"
      ],
      "metadata": {
        "id": "29fj4m5wsu_r"
      }
    },
    {
      "cell_type": "code",
      "source": [
        "row_sums = np.sum(matrix, axis=1).reshape(-1, 1)\n",
        "\n",
        "print(\"Сума елементів кожного рядка:\")\n",
        "print(row_sums)\n",
        "#В результаті отримали вектор - стовпчик"
      ],
      "metadata": {
        "colab": {
          "base_uri": "https://localhost:8080/"
        },
        "id": "8uD3eyMTsuHG",
        "outputId": "7de264bf-1537-4652-9827-329d920afc94"
      },
      "execution_count": null,
      "outputs": [
        {
          "output_type": "stream",
          "name": "stdout",
          "text": [
            "Сума елементів кожного рядка:\n",
            "[[11]\n",
            " [10]\n",
            " [12]]\n"
          ]
        }
      ]
    },
    {
      "cell_type": "markdown",
      "source": [
        "9. Створити вектор, що містить 25 елементів. Заповнити числами від 0 до 9. Відсортувати числа за спаданням."
      ],
      "metadata": {
        "id": "8IMHybFsl04Y"
      }
    },
    {
      "cell_type": "code",
      "source": [
        "vector = np.random.randint(0, 10, size=25)\n",
        "\n",
        "print(\"Початковий вектор:\")\n",
        "print(vector)\n",
        "\n",
        "# Сортуємо числа за спаданням\n",
        "sorted_vector = np.sort(vector)[::-1]\n",
        "\n",
        "print(\"Вектор після сортування за спаданням:\")\n",
        "print(sorted_vector)"
      ],
      "metadata": {
        "colab": {
          "base_uri": "https://localhost:8080/"
        },
        "id": "BqTFRe16tNed",
        "outputId": "3486d21b-5753-4d47-fd40-fb59a149200b"
      },
      "execution_count": null,
      "outputs": [
        {
          "output_type": "stream",
          "name": "stdout",
          "text": [
            "Початковий вектор:\n",
            "[5 0 4 4 3 5 4 1 6 5 6 4 4 5 9 5 4 6 7 8 0 1 3 2 0]\n",
            "Вектор після сортування за спаданням:\n",
            "[9 8 7 6 6 6 5 5 5 5 5 4 4 4 4 4 4 3 3 2 1 1 0 0 0]\n"
          ]
        }
      ]
    },
    {
      "cell_type": "markdown",
      "source": [
        "10. Знайти моду, медіану, середнє, максимальне, мінімальне значення"
      ],
      "metadata": {
        "id": "zb22Iw77mNGR"
      }
    },
    {
      "cell_type": "code",
      "source": [
        "from scipy import stats\n",
        "# Знаходимо моду\n",
        "mode = stats.mode(vector)\n",
        "\n",
        "# Знаходимо медіану\n",
        "median = np.median(vector)\n",
        "\n",
        "# Знаходимо середнє\n",
        "mean = np.mean(vector)\n",
        "\n",
        "# Знаходимо максимальне значення\n",
        "max_value = np.max(vector)\n",
        "\n",
        "# Знаходимо мінімальне значення\n",
        "min_value = np.min(vector)\n",
        "\n",
        "print(\"Мода:\", mode )\n",
        "print(\"Медіана:\", median)\n",
        "print(\"Середнє:\", mean)\n",
        "print(\"Максимальне значення:\", max_value)\n",
        "print(\"Мінімальне значення:\", min_value)"
      ],
      "metadata": {
        "colab": {
          "base_uri": "https://localhost:8080/"
        },
        "id": "kxw_qORHuCyS",
        "outputId": "57331e4d-c6d0-4d15-f836-c2b1db6977e8"
      },
      "execution_count": null,
      "outputs": [
        {
          "output_type": "stream",
          "name": "stdout",
          "text": [
            "Мода: ModeResult(mode=8, count=7)\n",
            "Медіана: 6.0\n",
            "Середнє: 4.6\n",
            "Максимальне значення: 9\n",
            "Мінімальне значення: 0\n"
          ]
        }
      ]
    },
    {
      "cell_type": "markdown",
      "source": [
        "11. Створити дві матриці 4*4, заповнені числами від 1 до 10. Обчислити суму, різницю, поелементний добуток, частку."
      ],
      "metadata": {
        "id": "Rmew_J41uzHI"
      }
    },
    {
      "cell_type": "code",
      "source": [
        "# Створюємо дві матриці 4x4 із випадкових цілих чисел від 1 до 10\n",
        "matrix1 = np.random.randint(1, 11, size=(4, 4))\n",
        "matrix2 = np.random.randint(1, 11, size=(4, 4))\n",
        "\n",
        "print(\"Матриця 1:\")\n",
        "print(matrix1)\n",
        "\n",
        "print(\"\\nМатриця 2:\")\n",
        "print(matrix2)"
      ],
      "metadata": {
        "colab": {
          "base_uri": "https://localhost:8080/"
        },
        "id": "Z-BfzaZnsTYC",
        "outputId": "cd5e73b8-8041-46b2-888f-f4fcdc1ac1ce"
      },
      "execution_count": null,
      "outputs": [
        {
          "output_type": "stream",
          "name": "stdout",
          "text": [
            "Матриця 1:\n",
            "[[10  3 10  2]\n",
            " [ 5  2  1  5]\n",
            " [10  4  5  4]\n",
            " [ 8  5  7 10]]\n",
            "\n",
            "Матриця 2:\n",
            "[[ 4 10  1  7]\n",
            " [ 3  5  2  7]\n",
            " [ 4  5  9 10]\n",
            " [ 8 10  2  1]]\n"
          ]
        }
      ]
    },
    {
      "cell_type": "code",
      "source": [
        "# Обчислюємо суму матриць\n",
        "matrix_sum = matrix1 + matrix2\n",
        "\n",
        "# Обчислюємо різницю матриць\n",
        "matrix_diff = matrix1 - matrix2\n",
        "\n",
        "# Обчислюємо поелементний добуток матриць\n",
        "matrix_product = matrix1 * matrix2\n",
        "\n",
        "# Обчислюємо поелементну частку матриць\n",
        "# Для запобігання ділення на нуль, використовуємо np.divide з параметром where\n",
        "matrix_division = np.divide(matrix1, matrix2, where=(matrix2!=0))\n",
        "\n",
        "print(\"\\nСума матриць:\")\n",
        "print(matrix_sum)\n",
        "\n",
        "print(\"\\nРізниця матриць:\")\n",
        "print(matrix_diff)\n",
        "\n",
        "print(\"\\nПоелементний добуток матриць:\")\n",
        "print(matrix_product)"
      ],
      "metadata": {
        "colab": {
          "base_uri": "https://localhost:8080/"
        },
        "id": "81SyiwO_uwUh",
        "outputId": "57880e74-8093-450f-98b1-9e9be6d88054"
      },
      "execution_count": null,
      "outputs": [
        {
          "output_type": "stream",
          "name": "stdout",
          "text": [
            "\n",
            "Сума матриць:\n",
            "[[14 13 11  9]\n",
            " [ 8  7  3 12]\n",
            " [14  9 14 14]\n",
            " [16 15  9 11]]\n",
            "\n",
            "Різниця матриць:\n",
            "[[ 6 -7  9 -5]\n",
            " [ 2 -3 -1 -2]\n",
            " [ 6 -1 -4 -6]\n",
            " [ 0 -5  5  9]]\n",
            "\n",
            "Поелементний добуток матриць:\n",
            "[[40 30 10 14]\n",
            " [15 10  2 35]\n",
            " [40 20 45 40]\n",
            " [64 50 14 10]]\n"
          ]
        }
      ]
    },
    {
      "cell_type": "markdown",
      "source": [
        "12. Задати вектор-рядок, що містить дійсні числа 1.0-8.0. Зробити матрицю 3*3.Помножити на вектор-рядок, що містить числа 0.0-2.0"
      ],
      "metadata": {
        "id": "2gEgaxLu64Fc"
      }
    },
    {
      "cell_type": "code",
      "source": [
        "x = np.arange(9.0)\n",
        "x"
      ],
      "metadata": {
        "colab": {
          "base_uri": "https://localhost:8080/"
        },
        "id": "bGYwkZrP6zPa",
        "outputId": "2bec6d3b-b39c-4e6d-9bf0-30978151471f"
      },
      "execution_count": null,
      "outputs": [
        {
          "output_type": "execute_result",
          "data": {
            "text/plain": [
              "array([0., 1., 2., 3., 4., 5., 6., 7., 8.])"
            ]
          },
          "metadata": {},
          "execution_count": 15
        }
      ]
    },
    {
      "cell_type": "code",
      "source": [
        "x1 = x.reshape((3, 3))\n",
        "x1"
      ],
      "metadata": {
        "colab": {
          "base_uri": "https://localhost:8080/"
        },
        "id": "77LotsR1X-dR",
        "outputId": "72df1587-015b-423f-b308-b84c12bc31fc"
      },
      "execution_count": null,
      "outputs": [
        {
          "output_type": "execute_result",
          "data": {
            "text/plain": [
              "array([[0., 1., 2.],\n",
              "       [3., 4., 5.],\n",
              "       [6., 7., 8.]])"
            ]
          },
          "metadata": {},
          "execution_count": 16
        }
      ]
    },
    {
      "cell_type": "code",
      "source": [
        "x2 = np.arange(3.0)\n",
        "x2"
      ],
      "metadata": {
        "colab": {
          "base_uri": "https://localhost:8080/"
        },
        "id": "kU3JmYtQX6eH",
        "outputId": "0d6afc8d-a22e-4a92-c206-a36d28193608"
      },
      "execution_count": null,
      "outputs": [
        {
          "output_type": "execute_result",
          "data": {
            "text/plain": [
              "array([0., 1., 2.])"
            ]
          },
          "metadata": {},
          "execution_count": 18
        }
      ]
    },
    {
      "cell_type": "code",
      "source": [
        "np.multiply(x1, x2)"
      ],
      "metadata": {
        "colab": {
          "base_uri": "https://localhost:8080/"
        },
        "id": "ke_yKphIBGjd",
        "outputId": "0a6826f0-c454-4d9d-e860-62b90f1377ab"
      },
      "execution_count": null,
      "outputs": [
        {
          "output_type": "execute_result",
          "data": {
            "text/plain": [
              "array([[ 0.,  1.,  4.],\n",
              "       [ 0.,  4., 10.],\n",
              "       [ 0.,  7., 16.]])"
            ]
          },
          "metadata": {},
          "execution_count": 19
        }
      ]
    },
    {
      "cell_type": "markdown",
      "source": [
        "13. Задати вектор-рядок (числа 1-5). Обчислити вектор в кубі."
      ],
      "metadata": {
        "id": "-s-LJYzR8Dyf"
      }
    },
    {
      "cell_type": "code",
      "source": [
        "x1 = np.arange(6)\n",
        "x1"
      ],
      "metadata": {
        "colab": {
          "base_uri": "https://localhost:8080/"
        },
        "id": "otERx-P27puV",
        "outputId": "f3e2f474-a53c-40e2-8e8b-df7ba19dc405"
      },
      "execution_count": null,
      "outputs": [
        {
          "output_type": "execute_result",
          "data": {
            "text/plain": [
              "array([0, 1, 2, 3, 4, 5])"
            ]
          },
          "metadata": {},
          "execution_count": 20
        }
      ]
    },
    {
      "cell_type": "code",
      "source": [
        "np.power(x1, 3)"
      ],
      "metadata": {
        "colab": {
          "base_uri": "https://localhost:8080/"
        },
        "id": "QMBQsrSa77lJ",
        "outputId": "3708f465-96ee-4f94-b5db-f27a2da7d710"
      },
      "execution_count": null,
      "outputs": [
        {
          "output_type": "execute_result",
          "data": {
            "text/plain": [
              "array([  0,   1,   8,  27,  64, 125])"
            ]
          },
          "metadata": {},
          "execution_count": 21
        }
      ]
    },
    {
      "cell_type": "markdown",
      "source": [
        "14. Піднести до ступеня"
      ],
      "metadata": {
        "id": "O9Cb02T88PDF"
      }
    },
    {
      "cell_type": "code",
      "source": [
        "x2 = np.array([1, 2, 3, 3, 2, 1])\n",
        "x1 = np.arange(6)\n",
        "x1 ** x2"
      ],
      "metadata": {
        "colab": {
          "base_uri": "https://localhost:8080/"
        },
        "id": "aSFjak_c8NGu",
        "outputId": "c3175c03-79c8-4a4a-e7ca-13bda49ea56e"
      },
      "execution_count": null,
      "outputs": [
        {
          "output_type": "execute_result",
          "data": {
            "text/plain": [
              "array([ 0,  1,  8, 27, 16,  5])"
            ]
          },
          "metadata": {},
          "execution_count": 22
        }
      ]
    }
  ]
}